{
 "cells": [
  {
   "cell_type": "code",
   "execution_count": 3,
   "metadata": {},
   "outputs": [
    {
     "name": "stdout",
     "output_type": "stream",
     "text": [
      "Collecting pandas\n",
      "  Downloading pandas-2.2.3-cp311-cp311-win_amd64.whl.metadata (19 kB)\n",
      "Collecting numpy>=1.23.2 (from pandas)\n",
      "  Downloading numpy-2.2.2-cp311-cp311-win_amd64.whl.metadata (60 kB)\n",
      "Requirement already satisfied: python-dateutil>=2.8.2 in d:\\projekte\\202305_synthetic_data\\cuong\\eval-synth-data-privacy\\.conda\\lib\\site-packages (from pandas) (2.9.0.post0)\n",
      "Collecting pytz>=2020.1 (from pandas)\n",
      "  Downloading pytz-2024.2-py2.py3-none-any.whl.metadata (22 kB)\n",
      "Collecting tzdata>=2022.7 (from pandas)\n",
      "  Downloading tzdata-2025.1-py2.py3-none-any.whl.metadata (1.4 kB)\n",
      "Requirement already satisfied: six>=1.5 in d:\\projekte\\202305_synthetic_data\\cuong\\eval-synth-data-privacy\\.conda\\lib\\site-packages (from python-dateutil>=2.8.2->pandas) (1.17.0)\n",
      "Downloading pandas-2.2.3-cp311-cp311-win_amd64.whl (11.6 MB)\n",
      "   ---------------------------------------- 0.0/11.6 MB ? eta -:--:--\n",
      "   ------ --------------------------------- 1.8/11.6 MB 10.0 MB/s eta 0:00:01\n",
      "   ------------- -------------------------- 3.9/11.6 MB 9.8 MB/s eta 0:00:01\n",
      "   -------------------- ------------------- 6.0/11.6 MB 10.0 MB/s eta 0:00:01\n",
      "   --------------------------- ------------ 7.9/11.6 MB 9.9 MB/s eta 0:00:01\n",
      "   ---------------------------------- ----- 10.0/11.6 MB 9.8 MB/s eta 0:00:01\n",
      "   ---------------------------------------  11.5/11.6 MB 9.9 MB/s eta 0:00:01\n",
      "   ---------------------------------------- 11.6/11.6 MB 9.3 MB/s eta 0:00:00\n",
      "Downloading numpy-2.2.2-cp311-cp311-win_amd64.whl (12.9 MB)\n",
      "   ---------------------------------------- 0.0/12.9 MB ? eta -:--:--\n",
      "   ----- ---------------------------------- 1.8/12.9 MB 10.0 MB/s eta 0:00:02\n",
      "   ------------ --------------------------- 3.9/12.9 MB 9.8 MB/s eta 0:00:01\n",
      "   ------------------ --------------------- 6.0/12.9 MB 10.0 MB/s eta 0:00:01\n",
      "   ------------------------ --------------- 7.9/12.9 MB 9.9 MB/s eta 0:00:01\n",
      "   ------------------------------ --------- 10.0/12.9 MB 9.8 MB/s eta 0:00:01\n",
      "   ------------------------------------ --- 11.8/12.9 MB 9.8 MB/s eta 0:00:01\n",
      "   ---------------------------------------- 12.9/12.9 MB 9.2 MB/s eta 0:00:00\n",
      "Downloading pytz-2024.2-py2.py3-none-any.whl (508 kB)\n",
      "Downloading tzdata-2025.1-py2.py3-none-any.whl (346 kB)\n",
      "Installing collected packages: pytz, tzdata, numpy, pandas\n",
      "Successfully installed numpy-2.2.2 pandas-2.2.3 pytz-2024.2 tzdata-2025.1\n",
      "Collecting duckdb\n",
      "  Downloading duckdb-1.1.3-cp311-cp311-win_amd64.whl.metadata (781 bytes)\n",
      "Downloading duckdb-1.1.3-cp311-cp311-win_amd64.whl (11.0 MB)\n",
      "   ---------------------------------------- 0.0/11.0 MB ? eta -:--:--\n",
      "   ------ --------------------------------- 1.8/11.0 MB 10.1 MB/s eta 0:00:01\n",
      "   -------------- ------------------------- 3.9/11.0 MB 9.8 MB/s eta 0:00:01\n",
      "   --------------- ------------------------ 4.2/11.0 MB 10.1 MB/s eta 0:00:01\n",
      "   --------------------- ------------------ 5.8/11.0 MB 7.2 MB/s eta 0:00:01\n",
      "   ---------------------------- ----------- 7.9/11.0 MB 7.7 MB/s eta 0:00:01\n",
      "   ----------------------------------- ---- 9.7/11.0 MB 8.2 MB/s eta 0:00:01\n",
      "   ---------------------------------------- 11.0/11.0 MB 7.8 MB/s eta 0:00:00\n",
      "Installing collected packages: duckdb\n",
      "Successfully installed duckdb-1.1.3\n"
     ]
    }
   ],
   "source": [
    "!pip3 install pandas\n",
    "!pip3 install duckdb"
   ]
  },
  {
   "cell_type": "code",
   "execution_count": 5,
   "metadata": {},
   "outputs": [
    {
     "name": "stdout",
     "output_type": "stream",
     "text": [
      "   sum(a)\n",
      "0     6.0\n"
     ]
    }
   ],
   "source": [
    "# to install: pip install duckdb\n",
    "import pandas as pd\n",
    "import duckdb\n",
    "\n",
    "mydf = pd.DataFrame({'a' : [1, 2, 3]})\n",
    "print(duckdb.query(\"SELECT sum(a) FROM mydf\").to_df())"
   ]
  },
  {
   "cell_type": "code",
   "execution_count": null,
   "metadata": {},
   "outputs": [],
   "source": [
    "testdata_path = 'D:\\Benutzer\\Cuong.VoTa\\datasets'"
   ]
  },
  {
   "cell_type": "code",
   "execution_count": null,
   "metadata": {},
   "outputs": [],
   "source": [
    "SELECT *\n",
    "FROM read_csv('.csv',\n",
    "    delim = '|',\n",
    "    header = true,\n",
    "    columns = {\n",
    "        'FlightDate': 'DATE',\n",
    "        'UniqueCarrier': 'VARCHAR',\n",
    "        'OriginCityName': 'VARCHAR',\n",
    "        'DestCityName': 'VARCHAR'\n",
    "    });"
   ]
  }
 ],
 "metadata": {
  "kernelspec": {
   "display_name": "Python 3",
   "language": "python",
   "name": "python3"
  },
  "language_info": {
   "codemirror_mode": {
    "name": "ipython",
    "version": 3
   },
   "file_extension": ".py",
   "mimetype": "text/x-python",
   "name": "python",
   "nbconvert_exporter": "python",
   "pygments_lexer": "ipython3",
   "version": "3.11.11"
  }
 },
 "nbformat": 4,
 "nbformat_minor": 2
}
