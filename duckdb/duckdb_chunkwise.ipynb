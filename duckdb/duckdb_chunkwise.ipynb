{
 "cells": [
  {
   "cell_type": "code",
   "execution_count": 3,
   "metadata": {},
   "outputs": [
    {
     "name": "stdout",
     "output_type": "stream",
     "text": [
      "Collecting pandas\n",
      "  Downloading pandas-2.2.3-cp311-cp311-win_amd64.whl.metadata (19 kB)\n",
      "Collecting numpy>=1.23.2 (from pandas)\n",
      "  Downloading numpy-2.2.2-cp311-cp311-win_amd64.whl.metadata (60 kB)\n",
      "Requirement already satisfied: python-dateutil>=2.8.2 in d:\\projekte\\202305_synthetic_data\\cuong\\eval-synth-data-privacy\\.conda\\lib\\site-packages (from pandas) (2.9.0.post0)\n",
      "Collecting pytz>=2020.1 (from pandas)\n",
      "  Downloading pytz-2024.2-py2.py3-none-any.whl.metadata (22 kB)\n",
      "Collecting tzdata>=2022.7 (from pandas)\n",
      "  Downloading tzdata-2025.1-py2.py3-none-any.whl.metadata (1.4 kB)\n",
      "Requirement already satisfied: six>=1.5 in d:\\projekte\\202305_synthetic_data\\cuong\\eval-synth-data-privacy\\.conda\\lib\\site-packages (from python-dateutil>=2.8.2->pandas) (1.17.0)\n",
      "Downloading pandas-2.2.3-cp311-cp311-win_amd64.whl (11.6 MB)\n",
      "   ---------------------------------------- 0.0/11.6 MB ? eta -:--:--\n",
      "   ------ --------------------------------- 1.8/11.6 MB 10.0 MB/s eta 0:00:01\n",
      "   ------------- -------------------------- 3.9/11.6 MB 9.8 MB/s eta 0:00:01\n",
      "   -------------------- ------------------- 6.0/11.6 MB 10.0 MB/s eta 0:00:01\n",
      "   --------------------------- ------------ 7.9/11.6 MB 9.9 MB/s eta 0:00:01\n",
      "   ---------------------------------- ----- 10.0/11.6 MB 9.8 MB/s eta 0:00:01\n",
      "   ---------------------------------------  11.5/11.6 MB 9.9 MB/s eta 0:00:01\n",
      "   ---------------------------------------- 11.6/11.6 MB 9.3 MB/s eta 0:00:00\n",
      "Downloading numpy-2.2.2-cp311-cp311-win_amd64.whl (12.9 MB)\n",
      "   ---------------------------------------- 0.0/12.9 MB ? eta -:--:--\n",
      "   ----- ---------------------------------- 1.8/12.9 MB 10.0 MB/s eta 0:00:02\n",
      "   ------------ --------------------------- 3.9/12.9 MB 9.8 MB/s eta 0:00:01\n",
      "   ------------------ --------------------- 6.0/12.9 MB 10.0 MB/s eta 0:00:01\n",
      "   ------------------------ --------------- 7.9/12.9 MB 9.9 MB/s eta 0:00:01\n",
      "   ------------------------------ --------- 10.0/12.9 MB 9.8 MB/s eta 0:00:01\n",
      "   ------------------------------------ --- 11.8/12.9 MB 9.8 MB/s eta 0:00:01\n",
      "   ---------------------------------------- 12.9/12.9 MB 9.2 MB/s eta 0:00:00\n",
      "Downloading pytz-2024.2-py2.py3-none-any.whl (508 kB)\n",
      "Downloading tzdata-2025.1-py2.py3-none-any.whl (346 kB)\n",
      "Installing collected packages: pytz, tzdata, numpy, pandas\n",
      "Successfully installed numpy-2.2.2 pandas-2.2.3 pytz-2024.2 tzdata-2025.1\n",
      "Collecting duckdb\n",
      "  Downloading duckdb-1.1.3-cp311-cp311-win_amd64.whl.metadata (781 bytes)\n",
      "Downloading duckdb-1.1.3-cp311-cp311-win_amd64.whl (11.0 MB)\n",
      "   ---------------------------------------- 0.0/11.0 MB ? eta -:--:--\n",
      "   ------ --------------------------------- 1.8/11.0 MB 10.1 MB/s eta 0:00:01\n",
      "   -------------- ------------------------- 3.9/11.0 MB 9.8 MB/s eta 0:00:01\n",
      "   --------------- ------------------------ 4.2/11.0 MB 10.1 MB/s eta 0:00:01\n",
      "   --------------------- ------------------ 5.8/11.0 MB 7.2 MB/s eta 0:00:01\n",
      "   ---------------------------- ----------- 7.9/11.0 MB 7.7 MB/s eta 0:00:01\n",
      "   ----------------------------------- ---- 9.7/11.0 MB 8.2 MB/s eta 0:00:01\n",
      "   ---------------------------------------- 11.0/11.0 MB 7.8 MB/s eta 0:00:00\n",
      "Installing collected packages: duckdb\n",
      "Successfully installed duckdb-1.1.3\n"
     ]
    }
   ],
   "source": [
    "!pip3 install pandas\n",
    "!pip3 install duckdb"
   ]
  },
  {
   "cell_type": "code",
   "execution_count": 5,
   "metadata": {},
   "outputs": [
    {
     "name": "stdout",
     "output_type": "stream",
     "text": [
      "   sum(a)\n",
      "0     6.0\n"
     ]
    }
   ],
   "source": [
    "# to install: pip install duckdb\n",
    "import pandas as pd\n",
    "import duckdb\n",
    "\n",
    "mydf = pd.DataFrame({'a' : [1, 2, 3]})\n",
    "print(duckdb.query(\"SELECT sum(a) FROM mydf\").to_df())"
   ]
  },
  {
   "cell_type": "code",
   "execution_count": 13,
   "metadata": {},
   "outputs": [],
   "source": [
    "import os\n",
    "testdata_path = 'D:\\Benutzer\\Cuong.VoTa\\datasets\\claims_data'\n",
    "insurants_path = os.path.join(testdata_path, 'sle.insurants.csv')"
   ]
  },
  {
   "cell_type": "code",
   "execution_count": 18,
   "metadata": {},
   "outputs": [
    {
     "name": "stdout",
     "output_type": "stream",
     "text": [
      "          pid  year of birth  gender\n",
      "0       10940           1963       1\n",
      "1       52745           1972       1\n",
      "2       82797           1982       1\n",
      "3      125486           1969       1\n",
      "4      241529           1948       1\n",
      "...       ...            ...     ...\n",
      "4985  4137946           1976       1\n",
      "4986  4143244           1981       1\n",
      "4987  4151318           1978       1\n",
      "4988  4167894           1990       1\n",
      "4989  4177740           1949       1\n",
      "\n",
      "[4990 rows x 3 columns]\n"
     ]
    }
   ],
   "source": [
    "con = duckdb.connect()\n",
    "insurants_duckdb = con.read_csv(\n",
    "    insurants_path,\n",
    "    delimiter='\\t',\n",
    "    names=['pid', 'year of birth', 'gender'],\n",
    "    dtype={\n",
    "        'pid': int,\n",
    "        'year of birth': 'Int64',\n",
    "        'gender': 'Int64',\n",
    "    },\n",
    ")\n",
    "\n",
    "# Correct SQL query\n",
    "query = \"SELECT * FROM insurants_duckdb WHERE gender = 1\"\n",
    "\n",
    "# Execute the query\n",
    "result = con.execute(query).fetch_df()\n",
    "\n",
    "# Print the result\n",
    "print(result)"
   ]
  },
  {
   "cell_type": "code",
   "execution_count": 19,
   "metadata": {},
   "outputs": [
    {
     "name": "stdout",
     "output_type": "stream",
     "text": [
      "[('drugs',), ('inpatient_cases',), ('inpatient_diagnosis',), ('inpatient_fees',), ('inpatient_procedures',), ('insurance_data',), ('insurants',), ('outpatient_cases',), ('outpatient_diagnosis',), ('outpatient_fees',), ('outpatient_procedures',)]\n",
      "      pid  insurants_year_of_birth  insurants_gender\n",
      "0   10940                     1963                 1\n",
      "1   52745                     1972                 1\n",
      "2   82797                     1982                 1\n",
      "3  125486                     1969                 1\n",
      "4  205240                     1994                 2\n"
     ]
    }
   ],
   "source": [
    "# Show all tables from the new duckdb database\n",
    "# Connect to the database\n",
    "con = duckdb.connect(database='claims_data.duckdb', read_only=True)\n",
    "\n",
    "# List tables\n",
    "print(con.execute(\"SHOW TABLES\").fetchall())\n",
    "\n",
    "# Query a table\n",
    "print(con.execute(\"SELECT * FROM insurants LIMIT 5\").fetchdf())\n",
    "\n",
    "# Close the connection\n",
    "con.close()"
   ]
  },
  {
   "cell_type": "code",
   "execution_count": null,
   "metadata": {},
   "outputs": [
    {
     "name": "stdout",
     "output_type": "stream",
     "text": [
      "Tables and their columns:\n",
      "\n",
      "Table: drugs\n",
      "  - pid: BIGINT\n",
      "  - drugs_date_of_prescription: TIMESTAMP_NS\n",
      "  - drugs_date_of_dispense: TIMESTAMP_NS\n",
      "  - drugs_pharma_central_number: VARCHAR\n",
      "  - drugs_specialty_of_prescriber: VARCHAR\n",
      "  - drugs_physican_code: VARCHAR\n",
      "  - drugs_practice_code: VARCHAR\n",
      "  - drugs_quantity: DOUBLE\n",
      "  - drugs_amount_due: DOUBLE\n",
      "  - drugs_atc: VARCHAR\n",
      "  - drugs_ddd: DOUBLE\n",
      "\n",
      "Table: inpatient_cases\n",
      "  - pid: BIGINT\n",
      "  - inpatient_caseID: BIGINT\n",
      "  - inpatient_cases_date_of_admission: TIMESTAMP_NS\n",
      "  - inpatient_cases_date_of_discharge: TIMESTAMP_NS\n",
      "  - inpatient_cases_cause_of_admission: VARCHAR\n",
      "  - inpatient_cases_cause_of_discharge: VARCHAR\n",
      "  - inpatient_cases_outpatient_treatment: BIGINT\n",
      "  - inpatient_cases_department_admission: VARCHAR\n",
      "  - inpatient_cases_department_discharge: VARCHAR\n",
      "\n",
      "Table: inpatient_diagnosis\n",
      "  - pid: BIGINT\n",
      "  - inpatient_caseID: BIGINT\n",
      "  - inpatient_diagnosis_diagnosis: VARCHAR\n",
      "  - inpatient_diagnosis_type_of_diagnosis: VARCHAR\n",
      "  - inpatient_diagnosis_is_main_diagnosis: BIGINT\n",
      "  - inpatient_diagnosis_localisation: BIGINT\n",
      "\n",
      "Table: inpatient_fees\n",
      "  - pid: BIGINT\n",
      "  - inpatient_caseID: BIGINT\n",
      "  - inpatient_fees_from: VARCHAR\n",
      "  - inpatient_fees_to: VARCHAR\n",
      "  - inpatient_fees_billing_code: VARCHAR\n",
      "  - inpatient_fees_amount_due: DOUBLE\n",
      "  - inpatient_fees_quantity: BIGINT\n",
      "\n",
      "Table: inpatient_procedures\n",
      "  - pid: BIGINT\n",
      "  - inpatient_caseID: BIGINT\n",
      "  - inpatient_procedures_procedure_code: VARCHAR\n",
      "  - inpatient_procedures_localisation: BIGINT\n",
      "  - inpatient_procedures_date_of_procedure: TIMESTAMP_NS\n",
      "\n",
      "Table: insurance_data\n",
      "  - pid: BIGINT\n",
      "  - insurance_data_from: TIMESTAMP_NS\n",
      "  - insurance_data_to: TIMESTAMP_NS\n",
      "  - insurance_data_death: BIGINT\n",
      "  - insurance_data_regional_code: BIGINT\n",
      "\n",
      "Table: insurants\n",
      "  - pid: BIGINT\n",
      "  - insurants_year_of_birth: BIGINT\n",
      "  - insurants_gender: BIGINT\n",
      "\n",
      "Table: outpatient_cases\n",
      "  - pid: BIGINT\n",
      "  - outpatient_caseID: BIGINT\n",
      "  - outpatient_cases_practice_code: VARCHAR\n",
      "  - outpatient_cases_from: TIMESTAMP_NS\n",
      "  - outpatient_cases_to: TIMESTAMP_NS\n",
      "  - outpatient_cases_amount_due: DOUBLE\n",
      "  - outpatient_cases_year: BIGINT\n",
      "  - outpatient_cases_quarter: BIGINT\n",
      "\n",
      "Table: outpatient_diagnosis\n",
      "  - pid: BIGINT\n",
      "  - outpatient_caseID: BIGINT\n",
      "  - outpatient_diagnosis_diagnosis: VARCHAR\n",
      "  - outpatient_diagnosis_qualification: VARCHAR\n",
      "  - outpatient_diagnosis_localisation: BIGINT\n",
      "\n",
      "Table: outpatient_fees\n",
      "  - pid: BIGINT\n",
      "  - outpatient_caseID: BIGINT\n",
      "  - outpatient_fees_physican_code: VARCHAR\n",
      "  - outpatient_fees_specialty_code: VARCHAR\n",
      "  - outpatient_fees_billing_code: VARCHAR\n",
      "  - outpatient_fees_quantity: BIGINT\n",
      "  - outpatient_fees_date: VARCHAR\n",
      "\n",
      "Table: outpatient_procedures\n",
      "  - pid: BIGINT\n",
      "  - outpatient_caseID: BIGINT\n",
      "  - outpatient_procedures_procedure_code: VARCHAR\n",
      "  - outpatient_procedures_date_of_procedure: VARCHAR\n",
      "  - outpatient_procedures_localisation: BIGINT\n",
      "  - outpatient_procedures_specialty_code: DOUBLE\n",
      "  - outpatient_procedures_physican_code: DOUBLE\n",
      "\n"
     ]
    }
   ],
   "source": [
    "# Connect to the DuckDB database\n",
    "con = duckdb.connect(database='claims_data.duckdb', read_only=True)\n",
    "\n",
    "# Query to list all tables\n",
    "tables = con.execute(\"SHOW TABLES\").fetchall()\n",
    "\n",
    "print(\"Tables and their columns:\\n\")\n",
    "\n",
    "# Loop through tables to retrieve columns and types\n",
    "for table in tables:\n",
    "    table_name = table[0]\n",
    "    print(f\"Table: {table_name}\")\n",
    "\n",
    "    # Query to list columns and their types for the current table\n",
    "    columns_info = con.execute(f\"DESCRIBE {table_name}\").fetchall()\n",
    "\n",
    "    for column in columns_info:\n",
    "        column_name, column_type, *_ = column\n",
    "        print(f\"  - {column_name}: {column_type}\")\n",
    "\n",
    "    print()\n",
    "\n",
    "# Close the connection\n",
    "con.close()"
   ]
  },
  {
   "cell_type": "markdown",
   "metadata": {},
   "source": [
    "# Sort tables by pid for further use"
   ]
  },
  {
   "cell_type": "code",
   "execution_count": 2,
   "metadata": {},
   "outputs": [],
   "source": [
    "import duckdb\n",
    "\n",
    "def sort_tables_by_pid(database_path):\n",
    "    \"\"\"\n",
    "    Sorts all tables in the DuckDB database by their 'pid' column and saves the order persistently.\n",
    "\n",
    "    Parameters:\n",
    "        database_path (str): Path to the DuckDB database file.\n",
    "\n",
    "    Returns:\n",
    "        None\n",
    "    \"\"\"\n",
    "    # Connect to the DuckDB database\n",
    "    con = duckdb.connect(database=database_path, read_only=False)\n",
    "\n",
    "    # Get a list of all tables\n",
    "    tables = con.execute(\"SHOW TABLES\").fetchall()\n",
    "\n",
    "    for table in tables:\n",
    "        table_name = table[0]\n",
    "\n",
    "        # Check if the table has a 'pid' column\n",
    "        columns = con.execute(f\"DESCRIBE {table_name}\").fetchall()\n",
    "        column_names = [col[0] for col in columns]\n",
    "\n",
    "        if 'pid' not in column_names:\n",
    "            print(f\"Skipping table '{table_name}' as it does not have a 'pid' column.\")\n",
    "            continue\n",
    "\n",
    "        # Sort the table by 'pid' and overwrite it\n",
    "        con.execute(f\"\"\"\n",
    "            CREATE OR REPLACE TABLE {table_name} AS\n",
    "            SELECT * FROM {table_name} ORDER BY pid\n",
    "        \"\"\")\n",
    "        print(f\"Table '{table_name}' sorted by 'pid' and saved persistently.\")\n",
    "\n",
    "    # Close the connection\n",
    "    con.close()\n",
    "    print(\"All tables have been sorted by 'pid' and updated in the database.\")"
   ]
  },
  {
   "cell_type": "code",
   "execution_count": 3,
   "metadata": {},
   "outputs": [
    {
     "name": "stdout",
     "output_type": "stream",
     "text": [
      "Table 'drugs' sorted by 'pid' and saved persistently.\n",
      "Table 'inpatient_cases' sorted by 'pid' and saved persistently.\n",
      "Table 'inpatient_diagnosis' sorted by 'pid' and saved persistently.\n",
      "Table 'inpatient_fees' sorted by 'pid' and saved persistently.\n",
      "Table 'inpatient_procedures' sorted by 'pid' and saved persistently.\n",
      "Table 'insurance_data' sorted by 'pid' and saved persistently.\n",
      "Table 'insurants' sorted by 'pid' and saved persistently.\n",
      "Table 'outpatient_cases' sorted by 'pid' and saved persistently.\n",
      "Table 'outpatient_diagnosis' sorted by 'pid' and saved persistently.\n",
      "Table 'outpatient_fees' sorted by 'pid' and saved persistently.\n",
      "Table 'outpatient_procedures' sorted by 'pid' and saved persistently.\n",
      "All tables have been sorted by 'pid' and updated in the database.\n"
     ]
    }
   ],
   "source": [
    "sort_tables_by_pid('claims_data.duckdb')"
   ]
  },
  {
   "cell_type": "code",
   "execution_count": null,
   "metadata": {},
   "outputs": [],
   "source": []
  }
 ],
 "metadata": {
  "kernelspec": {
   "display_name": "Python 3",
   "language": "python",
   "name": "python3"
  },
  "language_info": {
   "codemirror_mode": {
    "name": "ipython",
    "version": 3
   },
   "file_extension": ".py",
   "mimetype": "text/x-python",
   "name": "python",
   "nbconvert_exporter": "python",
   "pygments_lexer": "ipython3",
   "version": "3.11.11"
  }
 },
 "nbformat": 4,
 "nbformat_minor": 2
}
